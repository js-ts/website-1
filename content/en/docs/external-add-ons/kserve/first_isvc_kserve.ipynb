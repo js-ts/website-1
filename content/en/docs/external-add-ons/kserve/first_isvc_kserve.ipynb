{
 "cells": [
  {
   "cell_type": "markdown",
   "id": "9a71e8db-57f8-453b-80b4-a0c3890ed694",
   "metadata": {},
   "source": [
    "## Run your first `InferenceService`\n",
    "\n",
    "**In this tutorial, you will deploy a ScikitLearn InferenceService.**\n",
    "\n",
    "This inference service loads a simple iris ML model, send a list of attributes and print the prediction for the class of iris plant.\"\n",
    "\n",
    "Since your model is being deployed as an InferenceService, not a raw Kubernetes Service, you just need to provide the trained model and\n",
    "it gets some **super powers out of the box** :rocket:."
   ]
  },
  {
   "cell_type": "markdown",
   "id": "8c06a275-9d4b-466c-a922-ae476ae30146",
   "metadata": {},
   "source": [
    "## Install KServe SDK"
   ]
  },
  {
   "cell_type": "code",
   "execution_count": 1,
   "id": "d482b3bb-f363-4ca7-a127-26ae24617881",
   "metadata": {},
   "outputs": [
    {
     "name": "stdout",
     "output_type": "stream",
     "text": [
      "Requirement already satisfied: kserve==0.7.0 in /opt/conda/lib/python3.8/site-packages (0.7.0)\n",
      "Requirement already satisfied: python-dateutil>=2.5.3 in /opt/conda/lib/python3.8/site-packages (from kserve==0.7.0) (2.8.1)\n",
      "Requirement already satisfied: urllib3>=1.15.1 in /opt/conda/lib/python3.8/site-packages (from kserve==0.7.0) (1.26.5)\n",
      "Requirement already satisfied: google-auth==1.34.0 in /opt/conda/lib/python3.8/site-packages (from kserve==0.7.0) (1.34.0)\n",
      "Requirement already satisfied: deprecation==2.1.0 in /opt/conda/lib/python3.8/site-packages (from kserve==0.7.0) (2.1.0)\n",
      "Requirement already satisfied: google-cloud-storage==1.41.1 in /opt/conda/lib/python3.8/site-packages (from kserve==0.7.0) (1.41.1)\n",
      "Requirement already satisfied: google-api-core==1.29.0 in /opt/conda/lib/python3.8/site-packages (from kserve==0.7.0) (1.29.0)\n",
      "Requirement already satisfied: cloudevents>=1.2.0 in /opt/conda/lib/python3.8/site-packages (from kserve==0.7.0) (1.2.0)\n",
      "Requirement already satisfied: setuptools>=21.0.0 in /opt/conda/lib/python3.8/site-packages (from kserve==0.7.0) (49.6.0.post20210108)\n",
      "Requirement already satisfied: psutil>=5.0 in /opt/conda/lib/python3.8/site-packages (from kserve==0.7.0) (5.9.0)\n",
      "Requirement already satisfied: certifi==2021.5.30 in /opt/conda/lib/python3.8/site-packages (from kserve==0.7.0) (2021.5.30)\n",
      "Requirement already satisfied: botocore==1.21.18 in /opt/conda/lib/python3.8/site-packages (from kserve==0.7.0) (1.21.18)\n",
      "Requirement already satisfied: cachetools==4.2.2 in /opt/conda/lib/python3.8/site-packages (from kserve==0.7.0) (4.2.2)\n",
      "Requirement already satisfied: six>=1.15 in /opt/conda/lib/python3.8/site-packages (from kserve==0.7.0) (1.16.0)\n",
      "Requirement already satisfied: kubernetes>=12.0.0 in /opt/conda/lib/python3.8/site-packages (from kserve==0.7.0) (12.0.1)\n",
      "Requirement already satisfied: idna==3.2 in /opt/conda/lib/python3.8/site-packages (from kserve==0.7.0) (3.2)\n",
      "Requirement already satisfied: azure-identity>=1.6.0 in /opt/conda/lib/python3.8/site-packages (from kserve==0.7.0) (1.6.0)\n",
      "Requirement already satisfied: numpy>=1.17.3 in /opt/conda/lib/python3.8/site-packages (from kserve==0.7.0) (1.22.2)\n",
      "Requirement already satisfied: tornado>=6.0.0 in /opt/conda/lib/python3.8/site-packages (from kserve==0.7.0) (6.1)\n",
      "Requirement already satisfied: boto3==1.18.18 in /opt/conda/lib/python3.8/site-packages (from kserve==0.7.0) (1.18.18)\n",
      "Requirement already satisfied: azure-storage-blob==12.8.1 in /opt/conda/lib/python3.8/site-packages (from kserve==0.7.0) (12.8.1)\n",
      "Collecting argparse>=1.4.0\n",
      "  Using cached argparse-1.4.0-py2.py3-none-any.whl (23 kB)\n",
      "Requirement already satisfied: azure-core==1.17.0 in /opt/conda/lib/python3.8/site-packages (from kserve==0.7.0) (1.17.0)\n",
      "Requirement already satisfied: avro>=1.10.1 in /opt/conda/lib/python3.8/site-packages (from kserve==0.7.0) (1.11.0)\n",
      "Requirement already satisfied: adal>=1.2.2 in /opt/conda/lib/python3.8/site-packages (from kserve==0.7.0) (1.2.7)\n",
      "Requirement already satisfied: cffi==1.14.6 in /opt/conda/lib/python3.8/site-packages (from kserve==0.7.0) (1.14.6)\n",
      "Requirement already satisfied: googleapis-common-protos==1.53.0 in /opt/conda/lib/python3.8/site-packages (from kserve==0.7.0) (1.53.0)\n",
      "Requirement already satisfied: grpcio==1.38.1 in /opt/conda/lib/python3.8/site-packages (from kserve==0.7.0) (1.38.1)\n",
      "Requirement already satisfied: minio<7.0.0,>=4.0.9 in /opt/conda/lib/python3.8/site-packages (from kserve==0.7.0) (6.0.2)\n",
      "Requirement already satisfied: ray[serve]==1.5.0 in /opt/conda/lib/python3.8/site-packages (from kserve==0.7.0) (1.5.0)\n",
      "Requirement already satisfied: cryptography==3.4.7 in /opt/conda/lib/python3.8/site-packages (from kserve==0.7.0) (3.4.7)\n",
      "Requirement already satisfied: table-logger>=0.3.5 in /opt/conda/lib/python3.8/site-packages (from kserve==0.7.0) (0.3.6)\n",
      "Requirement already satisfied: jmespath==0.10.0 in /opt/conda/lib/python3.8/site-packages (from kserve==0.7.0) (0.10.0)\n",
      "Requirement already satisfied: requests>=2.18.4 in /opt/conda/lib/python3.8/site-packages (from azure-core==1.17.0->kserve==0.7.0) (2.27.1)\n",
      "Requirement already satisfied: msal-extensions~=0.3.0 in /opt/conda/lib/python3.8/site-packages (from azure-identity>=1.6.0->kserve==0.7.0) (0.3.1)\n",
      "Requirement already satisfied: msal<2.0.0,>=1.7.0 in /opt/conda/lib/python3.8/site-packages (from azure-identity>=1.6.0->kserve==0.7.0) (1.17.0)\n",
      "Requirement already satisfied: msrest>=0.6.18 in /opt/conda/lib/python3.8/site-packages (from azure-storage-blob==12.8.1->kserve==0.7.0) (0.6.21)\n",
      "Requirement already satisfied: s3transfer<0.6.0,>=0.5.0 in /opt/conda/lib/python3.8/site-packages (from boto3==1.18.18->kserve==0.7.0) (0.5.2)\n",
      "Requirement already satisfied: pycparser in /opt/conda/lib/python3.8/site-packages (from cffi==1.14.6->kserve==0.7.0) (2.20)\n",
      "Requirement already satisfied: packaging in /opt/conda/lib/python3.8/site-packages (from deprecation==2.1.0->kserve==0.7.0) (20.9)\n",
      "Requirement already satisfied: pytz in /opt/conda/lib/python3.8/site-packages (from google-api-core==1.29.0->kserve==0.7.0) (2021.1)\n",
      "Requirement already satisfied: protobuf>=3.12.0 in /opt/conda/lib/python3.8/site-packages (from google-api-core==1.29.0->kserve==0.7.0) (3.17.3)\n",
      "Requirement already satisfied: rsa<5,>=3.1.4 in /opt/conda/lib/python3.8/site-packages (from google-auth==1.34.0->kserve==0.7.0) (4.8)\n",
      "Requirement already satisfied: pyasn1-modules>=0.2.1 in /opt/conda/lib/python3.8/site-packages (from google-auth==1.34.0->kserve==0.7.0) (0.2.8)\n",
      "Requirement already satisfied: google-resumable-media<3.0dev,>=1.3.0 in /opt/conda/lib/python3.8/site-packages (from google-cloud-storage==1.41.1->kserve==0.7.0) (2.2.1)\n",
      "Requirement already satisfied: google-cloud-core<3.0dev,>=1.6.0 in /opt/conda/lib/python3.8/site-packages (from google-cloud-storage==1.41.1->kserve==0.7.0) (2.2.2)\n",
      "Requirement already satisfied: aioredis in /opt/conda/lib/python3.8/site-packages (from ray[serve]==1.5.0->kserve==0.7.0) (2.0.1)\n",
      "Requirement already satisfied: pydantic>=1.8 in /opt/conda/lib/python3.8/site-packages (from ray[serve]==1.5.0->kserve==0.7.0) (1.9.0)\n",
      "Requirement already satisfied: aiohttp-cors in /opt/conda/lib/python3.8/site-packages (from ray[serve]==1.5.0->kserve==0.7.0) (0.7.0)\n",
      "Requirement already satisfied: aiohttp in /opt/conda/lib/python3.8/site-packages (from ray[serve]==1.5.0->kserve==0.7.0) (3.8.1)\n",
      "Requirement already satisfied: gpustat in /opt/conda/lib/python3.8/site-packages (from ray[serve]==1.5.0->kserve==0.7.0) (0.6.0)\n",
      "Requirement already satisfied: opencensus in /opt/conda/lib/python3.8/site-packages (from ray[serve]==1.5.0->kserve==0.7.0) (0.8.0)\n",
      "Requirement already satisfied: pyyaml in /opt/conda/lib/python3.8/site-packages (from ray[serve]==1.5.0->kserve==0.7.0) (5.4.1)\n",
      "Requirement already satisfied: redis>=3.5.0 in /opt/conda/lib/python3.8/site-packages (from ray[serve]==1.5.0->kserve==0.7.0) (4.1.4)\n",
      "Requirement already satisfied: click>=7.0 in /opt/conda/lib/python3.8/site-packages (from ray[serve]==1.5.0->kserve==0.7.0) (7.1.2)\n",
      "Requirement already satisfied: filelock in /opt/conda/lib/python3.8/site-packages (from ray[serve]==1.5.0->kserve==0.7.0) (3.6.0)\n",
      "Requirement already satisfied: prometheus-client>=0.7.1 in /opt/conda/lib/python3.8/site-packages (from ray[serve]==1.5.0->kserve==0.7.0) (0.11.0)\n",
      "Requirement already satisfied: jsonschema in /opt/conda/lib/python3.8/site-packages (from ray[serve]==1.5.0->kserve==0.7.0) (3.2.0)\n",
      "Requirement already satisfied: colorama in /opt/conda/lib/python3.8/site-packages (from ray[serve]==1.5.0->kserve==0.7.0) (0.4.4)\n",
      "Requirement already satisfied: msgpack<2.0.0,>=1.0.0 in /opt/conda/lib/python3.8/site-packages (from ray[serve]==1.5.0->kserve==0.7.0) (1.0.3)\n",
      "Requirement already satisfied: py-spy>=0.2.0 in /opt/conda/lib/python3.8/site-packages (from ray[serve]==1.5.0->kserve==0.7.0) (0.3.11)\n",
      "Requirement already satisfied: starlette in /opt/conda/lib/python3.8/site-packages (from ray[serve]==1.5.0->kserve==0.7.0) (0.17.1)\n",
      "Requirement already satisfied: fastapi in /opt/conda/lib/python3.8/site-packages (from ray[serve]==1.5.0->kserve==0.7.0) (0.74.1)\n",
      "Requirement already satisfied: uvicorn in /opt/conda/lib/python3.8/site-packages (from ray[serve]==1.5.0->kserve==0.7.0) (0.17.5)\n",
      "Requirement already satisfied: PyJWT<3,>=1.0.0 in /opt/conda/lib/python3.8/site-packages (from adal>=1.2.2->kserve==0.7.0) (2.3.0)\n",
      "Requirement already satisfied: google-crc32c<2.0dev,>=1.0 in /opt/conda/lib/python3.8/site-packages (from google-resumable-media<3.0dev,>=1.3.0->google-cloud-storage==1.41.1->kserve==0.7.0) (1.3.0)\n",
      "Requirement already satisfied: requests-oauthlib in /opt/conda/lib/python3.8/site-packages (from kubernetes>=12.0.0->kserve==0.7.0) (1.3.1)\n",
      "Requirement already satisfied: websocket-client!=0.40.0,!=0.41.*,!=0.42.*,>=0.32.0 in /opt/conda/lib/python3.8/site-packages (from kubernetes>=12.0.0->kserve==0.7.0) (1.0.1)\n",
      "Requirement already satisfied: configparser in /opt/conda/lib/python3.8/site-packages (from minio<7.0.0,>=4.0.9->kserve==0.7.0) (5.2.0)\n",
      "Requirement already satisfied: portalocker<3,>=1.0 in /opt/conda/lib/python3.8/site-packages (from msal-extensions~=0.3.0->azure-identity>=1.6.0->kserve==0.7.0) (2.4.0)\n",
      "Requirement already satisfied: isodate>=0.6.0 in /opt/conda/lib/python3.8/site-packages (from msrest>=0.6.18->azure-storage-blob==12.8.1->kserve==0.7.0) (0.6.1)\n",
      "Requirement already satisfied: pyparsing>=2.0.2 in /opt/conda/lib/python3.8/site-packages (from packaging->deprecation==2.1.0->kserve==0.7.0) (2.4.7)\n",
      "Requirement already satisfied: pyasn1<0.5.0,>=0.4.6 in /opt/conda/lib/python3.8/site-packages (from pyasn1-modules>=0.2.1->google-auth==1.34.0->kserve==0.7.0) (0.4.8)\n",
      "Requirement already satisfied: typing-extensions>=3.7.4.3 in /opt/conda/lib/python3.8/site-packages (from pydantic>=1.8->ray[serve]==1.5.0->kserve==0.7.0) (3.10.0.2)\n",
      "Requirement already satisfied: deprecated>=1.2.3 in /opt/conda/lib/python3.8/site-packages (from redis>=3.5.0->ray[serve]==1.5.0->kserve==0.7.0) (1.2.13)\n",
      "Requirement already satisfied: wrapt<2,>=1.10 in /opt/conda/lib/python3.8/site-packages (from deprecated>=1.2.3->redis>=3.5.0->ray[serve]==1.5.0->kserve==0.7.0) (1.13.3)\n",
      "Requirement already satisfied: charset-normalizer~=2.0.0 in /opt/conda/lib/python3.8/site-packages (from requests>=2.18.4->azure-core==1.17.0->kserve==0.7.0) (2.0.12)\n",
      "Requirement already satisfied: oauthlib>=3.0.0 in /opt/conda/lib/python3.8/site-packages (from requests-oauthlib->kubernetes>=12.0.0->kserve==0.7.0) (3.2.0)\n",
      "Requirement already satisfied: yarl<2.0,>=1.0 in /opt/conda/lib/python3.8/site-packages (from aiohttp->ray[serve]==1.5.0->kserve==0.7.0) (1.7.2)\n",
      "Requirement already satisfied: frozenlist>=1.1.1 in /opt/conda/lib/python3.8/site-packages (from aiohttp->ray[serve]==1.5.0->kserve==0.7.0) (1.3.0)\n",
      "Requirement already satisfied: async-timeout<5.0,>=4.0.0a3 in /opt/conda/lib/python3.8/site-packages (from aiohttp->ray[serve]==1.5.0->kserve==0.7.0) (4.0.2)\n",
      "Requirement already satisfied: multidict<7.0,>=4.5 in /opt/conda/lib/python3.8/site-packages (from aiohttp->ray[serve]==1.5.0->kserve==0.7.0) (6.0.2)\n",
      "Requirement already satisfied: aiosignal>=1.1.2 in /opt/conda/lib/python3.8/site-packages (from aiohttp->ray[serve]==1.5.0->kserve==0.7.0) (1.2.0)\n",
      "Requirement already satisfied: attrs>=17.3.0 in /opt/conda/lib/python3.8/site-packages (from aiohttp->ray[serve]==1.5.0->kserve==0.7.0) (21.2.0)\n",
      "Requirement already satisfied: anyio<4,>=3.0.0 in /opt/conda/lib/python3.8/site-packages (from starlette->ray[serve]==1.5.0->kserve==0.7.0) (3.1.0)\n",
      "Requirement already satisfied: sniffio>=1.1 in /opt/conda/lib/python3.8/site-packages (from anyio<4,>=3.0.0->starlette->ray[serve]==1.5.0->kserve==0.7.0) (1.2.0)\n",
      "Requirement already satisfied: blessings>=1.6 in /opt/conda/lib/python3.8/site-packages (from gpustat->ray[serve]==1.5.0->kserve==0.7.0) (1.7)\n",
      "Requirement already satisfied: nvidia-ml-py3>=7.352.0 in /opt/conda/lib/python3.8/site-packages (from gpustat->ray[serve]==1.5.0->kserve==0.7.0) (7.352.0)\n",
      "Requirement already satisfied: pyrsistent>=0.14.0 in /opt/conda/lib/python3.8/site-packages (from jsonschema->ray[serve]==1.5.0->kserve==0.7.0) (0.17.3)\n",
      "Requirement already satisfied: opencensus-context==0.1.2 in /opt/conda/lib/python3.8/site-packages (from opencensus->ray[serve]==1.5.0->kserve==0.7.0) (0.1.2)\n",
      "Requirement already satisfied: h11>=0.8 in /opt/conda/lib/python3.8/site-packages (from uvicorn->ray[serve]==1.5.0->kserve==0.7.0) (0.13.0)\n",
      "Requirement already satisfied: asgiref>=3.4.0 in /opt/conda/lib/python3.8/site-packages (from uvicorn->ray[serve]==1.5.0->kserve==0.7.0) (3.5.0)\n",
      "Installing collected packages: argparse\n",
      "\u001b[31mERROR: pip's dependency resolver does not currently take into account all the packages that are installed. This behaviour is the source of the following dependency conflicts.\n",
      "kfserving 0.5.1 requires azure-storage-blob<=2.1.0,>=1.3.0, but you have azure-storage-blob 12.8.1 which is incompatible.\u001b[0m\n",
      "Successfully installed argparse-1.4.0\n"
     ]
    }
   ],
   "source": [
    "!pip install kserve==0.7.0"
   ]
  },
  {
   "cell_type": "markdown",
   "id": "568b250b-102a-4dc9-a9a9-e17daf7e3a02",
   "metadata": {},
   "source": [
    "## Import packages"
   ]
  },
  {
   "cell_type": "code",
   "execution_count": 2,
   "id": "a38cbeda-eb60-4469-b861-559950886453",
   "metadata": {},
   "outputs": [],
   "source": [
    "from kubernetes import client \n",
    "from kserve import KServeClient\n",
    "from kserve import constants\n",
    "from kserve import utils\n",
    "from kserve import V1beta1InferenceService\n",
    "from kserve import V1beta1InferenceServiceSpec\n",
    "from kserve import V1beta1PredictorSpec\n",
    "from kserve import V1beta1SKLearnSpec"
   ]
  },
  {
   "cell_type": "markdown",
   "id": "e8332633-5f3a-4557-96d5-1f72a2222af8",
   "metadata": {},
   "source": [
    "## Declare Namespace"
   ]
  },
  {
   "cell_type": "code",
   "execution_count": 3,
   "id": "6a621ac9-1847-4249-b12a-76cf23620534",
   "metadata": {},
   "outputs": [],
   "source": [
    "namespace = utils.get_default_target_namespace()"
   ]
  },
  {
   "cell_type": "markdown",
   "id": "36933388-867e-4bfa-b4f4-7a1408e9ed34",
   "metadata": {},
   "source": [
    "## Define InferenceService"
   ]
  },
  {
   "cell_type": "markdown",
   "id": "07ded005-72c9-466c-80d7-38db5cfdec5d",
   "metadata": {},
   "source": [
    "Firstly define default endpoint spec, and then define the inferenceservice basic on the endpoint spec."
   ]
  },
  {
   "cell_type": "code",
   "execution_count": 4,
   "id": "9a7f9b69-a305-482b-a9e1-0b706ba11341",
   "metadata": {},
   "outputs": [],
   "source": [
    "name='sklearn-iris'\n",
    "kserve_version='v1beta1'\n",
    "api_version = constants.KSERVE_GROUP + '/' + kserve_version\n",
    "\n",
    "isvc = V1beta1InferenceService(api_version=api_version,\n",
    "                               kind=constants.KSERVE_KIND,\n",
    "                               metadata=client.V1ObjectMeta(\n",
    "                                   name='sklearn-iris', namespace=namespace, annotations={'sidecar.istio.io/inject':'false'}),\n",
    "                               spec=V1beta1InferenceServiceSpec(\n",
    "                               predictor=V1beta1PredictorSpec(\n",
    "                               sklearn=(V1beta1SKLearnSpec(\n",
    "                                   storage_uri=\"gs://kfserving-samples/models/sklearn/iris\"))))\n",
    ")"
   ]
  },
  {
   "cell_type": "markdown",
   "id": "e433c47a-a2cf-46ba-9c5a-9f509867c2c8",
   "metadata": {},
   "source": [
    "## Create InferenceService"
   ]
  },
  {
   "cell_type": "markdown",
   "id": "c4f4b796-66be-4817-8de6-64cf03fc6403",
   "metadata": {},
   "source": [
    "Call KServeClient to create InferenceService."
   ]
  },
  {
   "cell_type": "code",
   "execution_count": 5,
   "id": "f8ef0696-7520-4476-96e8-778017f1d075",
   "metadata": {},
   "outputs": [
    {
     "data": {
      "text/plain": [
       "{'apiVersion': 'serving.kserve.io/v1beta1',\n",
       " 'kind': 'InferenceService',\n",
       " 'metadata': {'annotations': {'sidecar.istio.io/inject': 'false'},\n",
       "  'creationTimestamp': '2022-02-27T07:54:22Z',\n",
       "  'generation': 1,\n",
       "  'managedFields': [{'apiVersion': 'serving.kserve.io/v1beta1',\n",
       "    'fieldsType': 'FieldsV1',\n",
       "    'fieldsV1': {'f:metadata': {'f:annotations': {'.': {},\n",
       "       'f:sidecar.istio.io/inject': {}}},\n",
       "     'f:spec': {'.': {},\n",
       "      'f:predictor': {'.': {}, 'f:sklearn': {'.': {}, 'f:storageUri': {}}}}},\n",
       "    'manager': 'OpenAPI-Generator',\n",
       "    'operation': 'Update',\n",
       "    'time': '2022-02-27T07:54:19Z'}],\n",
       "  'name': 'sklearn-iris',\n",
       "  'namespace': 'kubeflow-user-example-com',\n",
       "  'resourceVersion': '6753817',\n",
       "  'uid': '182227dd-7224-4111-8570-6fce80127540'},\n",
       " 'spec': {'predictor': {'sklearn': {'name': 'kserve-container',\n",
       "    'protocolVersion': 'v1',\n",
       "    'resources': {'limits': {'cpu': '1', 'memory': '2Gi'},\n",
       "     'requests': {'cpu': '1', 'memory': '2Gi'}},\n",
       "    'runtimeVersion': 'v0.7.0',\n",
       "    'storageUri': 'gs://kfserving-samples/models/sklearn/iris'}}}}"
      ]
     },
     "execution_count": 5,
     "metadata": {},
     "output_type": "execute_result"
    }
   ],
   "source": [
    "KServe = KServeClient()\n",
    "KServe.create(isvc)"
   ]
  },
  {
   "cell_type": "markdown",
   "id": "b9995e8b-ff37-4ccb-b564-d4fcf5423069",
   "metadata": {},
   "source": [
    "## Check the InferenceService"
   ]
  },
  {
   "cell_type": "code",
   "execution_count": 6,
   "id": "32c55fd5-4823-4303-a4e1-e4678f0c58b0",
   "metadata": {},
   "outputs": [
    {
     "name": "stdout",
     "output_type": "stream",
     "text": [
      "NAME                 READY                           PREV                    LATEST URL                                                              \n",
      "sklearn-iris         Unknown                            0                       100                                                                  \n",
      "sklearn-iris         Unknown                            0                       100                                                                  \n",
      "sklearn-iris         Unknown                            0                       100                                                                  \n",
      "sklearn-iris         Unknown                            0                       100                                                                  \n",
      "sklearn-iris         True                               0                       100 http://sklearn-iris-kubeflow-user-example-com.pvaneck-iks-121-...\n"
     ]
    }
   ],
   "source": [
    "KServe.get('sklearn-iris', namespace=namespace, watch=True, timeout_seconds=120)"
   ]
  },
  {
   "cell_type": "markdown",
   "id": "2d56fb42-bb2c-4a37-bb73-cc7f43c6c8cc",
   "metadata": {},
   "source": [
    "# Get Predictions"
   ]
  },
  {
   "cell_type": "markdown",
   "id": "2cfe3c80-3acc-4889-8a81-e85b0055fcde",
   "metadata": {},
   "source": [
    "### Get isvc internal url"
   ]
  },
  {
   "cell_type": "code",
   "execution_count": 7,
   "id": "e8364355-ac72-495f-ac15-670adc5e9857",
   "metadata": {},
   "outputs": [
    {
     "name": "stdout",
     "output_type": "stream",
     "text": [
      "http://sklearn-iris-predictor-default.kubeflow-user-example-com.svc.cluster.local/v1/models/sklearn-iris:predict\n"
     ]
    }
   ],
   "source": [
    "url = \"http://{}-predictor-default.{}.svc.cluster.local/v1/models/{}:predict\".format(name, namespace, name)\n",
    "print(url)"
   ]
  },
  {
   "cell_type": "markdown",
   "id": "ba174e8c-828d-4ff4-8e60-5d7df1fa9094",
   "metadata": {},
   "source": [
    "### Curl the url and pass data"
   ]
  },
  {
   "cell_type": "code",
   "execution_count": 8,
   "id": "aa565350-eb1e-4453-94da-6fb0423723a6",
   "metadata": {},
   "outputs": [
    {
     "name": "stdout",
     "output_type": "stream",
     "text": [
      "{\"predictions\": [1, 1]}"
     ]
    }
   ],
   "source": [
    "!curl http://sklearn-iris.kubeflow-user-example-com.svc.cluster.local/v1/models/sklearn-iris:predict -d @./iris-input.json"
   ]
  },
  {
   "cell_type": "markdown",
   "id": "91daa8b4-8ec3-4c09-b1eb-ad400d2e1c94",
   "metadata": {},
   "source": [
    "## Run Performance Test"
   ]
  },
  {
   "cell_type": "code",
   "execution_count": 10,
   "id": "558d2704-62eb-43b5-a100-18ff3ae5c1f1",
   "metadata": {},
   "outputs": [
    {
     "name": "stdout",
     "output_type": "stream",
     "text": [
      "job.batch/load-test4kxf6 created\n",
      "configmap/vegeta-cfg created\n"
     ]
    }
   ],
   "source": [
    "!kubectl create -f https://raw.githubusercontent.com/kserve/kserve/release-0.7/docs/samples/v1beta1/sklearn/v1/perf.yaml -n kubeflow-user-example-com"
   ]
  },
  {
   "cell_type": "markdown",
   "id": "f7313b81-d810-49e9-896d-a66d020eaad4",
   "metadata": {},
   "source": [
    "### Get Job Name"
   ]
  },
  {
   "cell_type": "code",
   "execution_count": 15,
   "id": "09784a23-312b-4a20-b2ee-145e28ec09ac",
   "metadata": {},
   "outputs": [
    {
     "name": "stdout",
     "output_type": "stream",
     "text": [
      "load-test4kxf6-xfls4                                              0/1     Completed   0          10m\n"
     ]
    }
   ],
   "source": [
    "!kubectl get pods --namespace=kubeflow-user-example-com | grep load"
   ]
  },
  {
   "cell_type": "markdown",
   "id": "580f9bda-52ab-4a42-8242-cb103be93ceb",
   "metadata": {},
   "source": [
    "**Expected Output**"
   ]
  },
  {
   "cell_type": "code",
   "execution_count": 14,
   "id": "382e7176-513e-4f05-af3e-f3bdffc596e5",
   "metadata": {},
   "outputs": [
    {
     "name": "stdout",
     "output_type": "stream",
     "text": [
      "Requests      [total, rate, throughput]         30000, 500.02, 0.00\n",
      "Duration      [total, attack, wait]             1m0s, 59.998s, 2.921ms\n",
      "Latencies     [min, mean, 50, 90, 95, 99, max]  2.536µs, 5.495ms, 2.661ms, 4.861ms, 7.556ms, 45.074ms, 567.662ms\n",
      "Bytes In      [total, mean]                     0, 0.00\n",
      "Bytes Out     [total, mean]                     0, 0.00\n",
      "Success       [ratio]                           0.00%\n",
      "Status Codes  [code:count]                      0:30000  \n",
      "Error Set:\n",
      "Post \"http://sklearn-iris.kserve-test.svc.cluster.local/v1/models/sklearn-iris:predict\": dial tcp: lookup sklearn-iris.kserve-test.svc.cluster.local on 172.21.0.10:53: no such host\n"
     ]
    }
   ],
   "source": [
    "!kubectl logs load-test4kxf6-xfls4 -n kubeflow-user-example-com"
   ]
  },
  {
   "cell_type": "code",
   "execution_count": null,
   "id": "ac89bcc5-5c2f-4b1f-9b8c-cd3df2d349cf",
   "metadata": {},
   "outputs": [],
   "source": []
  }
 ],
 "metadata": {
  "kernelspec": {
   "display_name": "Python 3",
   "language": "python",
   "name": "python3"
  },
  "language_info": {
   "codemirror_mode": {
    "name": "ipython",
    "version": 3
   },
   "file_extension": ".py",
   "mimetype": "text/x-python",
   "name": "python",
   "nbconvert_exporter": "python",
   "pygments_lexer": "ipython3",
   "version": "3.8.10"
  }
 },
 "nbformat": 4,
 "nbformat_minor": 5
}
